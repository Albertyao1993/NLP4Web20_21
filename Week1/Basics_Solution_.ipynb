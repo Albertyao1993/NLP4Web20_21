{
 "cells": [
  {
   "cell_type": "markdown",
   "metadata": {},
   "source": [
    "# Python"
   ]
  },
  {
   "cell_type": "markdown",
   "metadata": {},
   "source": [
    "This notebook contains relevant information about Python that will be helpful during the whole class. \n",
    "\n",
    "## Jupyter is a Python shell divided in cells\n",
    "\n",
    "\n",
    "This cell is a *Markdown* cell (for texts like notes, manuals, etc.)\n",
    "You can edit this cell with a double click. `Ctrl + Enter` executes the cell, i.e. annotations for headlines, bullet lists and the like will be evaluated and the formatted result will be shown.\n",
    "\n",
    "The cell following the **\"Hello World!\"** headline is a *Code* cell\n",
    "It consists of an input `In [ ]` and an output.\n",
    "The execution of the entered code is started with `Ctrl + Enter`, just like the Markdown cell type.\n",
    "\n",
    "If the square brackets of the input cell are empty, the cell has not been executed yet.\n",
    "A star (`In [*]`) shows that the code of the cell is currently running.\n",
    "After the computation finished, the star is replaced with a number (e.g. `In [5]`) and the output (if any is produced) appears directly below the cell.\n",
    "\n",
    "The cells can be executed multiple times and in any order. The actual program flow is thus not defined by the cell order but by the numbers in the square brackets."
   ]
  },
  {
   "cell_type": "markdown",
   "metadata": {},
   "source": [
    "As usual, first thing we need is a hello world!\n",
    "\n",
    "### Hello world!"
   ]
  },
  {
   "cell_type": "code",
   "execution_count": null,
   "metadata": {},
   "outputs": [],
   "source": [
    "print(\"hello world!\")"
   ]
  },
  {
   "cell_type": "markdown",
   "metadata": {},
   "source": [
    "What can we see from this first Python code line?\n",
    "\n",
    "- `print` is a key word in Python\n",
    "- strings can be defined just by using quotes\n",
    "- we don't need to create any main or any class to run code in Python"
   ]
  },
  {
   "cell_type": "markdown",
   "metadata": {},
   "source": [
    "### Here is a list of Python key words"
   ]
  },
  {
   "cell_type": "markdown",
   "metadata": {},
   "source": [
    "|   |   |   |   |   |\n",
    "|:---|:---|:---|:---|:---|\n",
    "|`and`|`as`|`assert`|`break`\n",
    "|`class`|`continue`|`def`|`del`  \n",
    "|`elif`|`else`|`except`|`exec`\n",
    "|`finally`|`for`|`from`|`global`\n",
    "|`if`|`import`|`in`|` is`\n",
    "|`lambda`|`not`|`or`|` pass`\n",
    "|`print`|`raise`|`return`|`try`\n",
    "|`while`|`with`|`yield`\n",
    "\n",
    "Taken from [Lean Python](http://file.allitebooks.com/20161117/Lean%20Python.pdf)"
   ]
  },
  {
   "cell_type": "markdown",
   "metadata": {},
   "source": [
    "### Defining variables:"
   ]
  },
  {
   "cell_type": "markdown",
   "metadata": {},
   "source": [
    "In python you do not need to declare the type of the variable. The interpreter will infer them dynamically.\n",
    "In Python you can find the type out using `type()`. Defining variables is just as easy as using `=`. All variables have a type analogue to Java or any other programming language. "
   ]
  },
  {
   "cell_type": "code",
   "execution_count": null,
   "metadata": {},
   "outputs": [],
   "source": [
    "a = 4   # I'm an integer\n",
    "b = 5.2 # I'm a float"
   ]
  },
  {
   "cell_type": "code",
   "execution_count": null,
   "metadata": {},
   "outputs": [],
   "source": [
    "variable = \"I'm a variable\" # This is a string\n",
    "\n",
    "c, d, e = 1, 2, 3 # this is the same as saying c = 1, d =  2, e = 3\n",
    "\n",
    "print(e)"
   ]
  },
  {
   "cell_type": "code",
   "execution_count": null,
   "metadata": {},
   "outputs": [],
   "source": [
    "# Now it's your turn to find out, what is the type of variable, a and b\n",
    "\n",
    "print(\"variable is type:\", type(variable))\n",
    "\n",
    "print(\"a is type:\", type(a))\n",
    "\n",
    "print(\"b is type:\", type(b))"
   ]
  },
  {
   "cell_type": "markdown",
   "metadata": {},
   "source": [
    "What about math opperations, what type should come out of summing __a__ and __b__"
   ]
  },
  {
   "cell_type": "code",
   "execution_count": null,
   "metadata": {},
   "outputs": [],
   "source": [
    "# let's try it out!\n",
    "\n",
    "print(a + b) # Mixing integer and float numbers results in float type"
   ]
  },
  {
   "cell_type": "markdown",
   "metadata": {},
   "source": [
    "What about substraction and so on?"
   ]
  },
  {
   "cell_type": "code",
   "execution_count": null,
   "metadata": {},
   "outputs": [],
   "source": [
    "#### It's your turn to compute these :)\n",
    "\n",
    "# substraction\n",
    "print(a - b)\n",
    "\n",
    "# multiplication\n",
    "print(a * b)\n",
    "\n",
    "# division\n",
    "print(a / b)\n",
    "\n",
    "# modulo (of integers)\n",
    "print(6 % 4)"
   ]
  },
  {
   "cell_type": "markdown",
   "metadata": {},
   "source": [
    "__Question__: What is the resulting type of a multiplication and what is the resulting type of a division? Are the results always of the same type?\n",
    "\n",
    "A multiplication as well as subtraction and addition use the type they need to represent the result, i.e. if the result is integer, the type is also integer, if not, it will be float. The type of a division is always float, even if the result would be integer."
   ]
  },
  {
   "cell_type": "markdown",
   "metadata": {},
   "source": [
    "### Blocks"
   ]
  },
  {
   "cell_type": "markdown",
   "metadata": {},
   "source": [
    "In Python each statement is defined in a line. Sometimes, you can use a semicolon (;) to define several statement in a line. \n",
    "\n",
    "Other programming languages have { ... } to define a block, in Python we have identation and colon (:) in order to open the block.\n"
   ]
  },
  {
   "cell_type": "code",
   "execution_count": null,
   "metadata": {},
   "outputs": [],
   "source": [
    "# if-statement - what will be the output?\n",
    "\n",
    "x = 5\n",
    "\n",
    "if x < 5:\n",
    "    print('x is smaller than 5')\n",
    "elif x == 5:\n",
    "    print('x is equal to 5')\n",
    "else:\n",
    "    print('x is greater than 5')\n",
    "print('end of the if')"
   ]
  },
  {
   "cell_type": "code",
   "execution_count": null,
   "metadata": {},
   "outputs": [],
   "source": [
    "# What can you say about this loop?\n",
    "\n",
    "count = 0\n",
    "while count < 5: # Here begins my block\n",
    "    print(count)\n",
    "count += 1"
   ]
  },
  {
   "cell_type": "markdown",
   "metadata": {},
   "source": [
    "__Question__: What do we have to change for counting up to 5?<br>\n",
    "__Task__: We want to sum up all numbers from 1 to 100. How can we implement this? (The result should be 5050.)"
   ]
  },
  {
   "cell_type": "code",
   "execution_count": null,
   "metadata": {},
   "outputs": [],
   "source": [
    "result = 0\n",
    "i = 1\n",
    "while i <= 100:\n",
    "    result += i\n",
    "    i += 1\n",
    "\n",
    "print(result)"
   ]
  },
  {
   "cell_type": "markdown",
   "metadata": {},
   "source": [
    "__Task__: We want now to sum up all numbers from 1 to 100 that are divisible by 3. (The result should be 1683.)"
   ]
  },
  {
   "cell_type": "code",
   "execution_count": null,
   "metadata": {},
   "outputs": [],
   "source": [
    "# There are two ways:\n",
    "\n",
    "result = 0\n",
    "i = 3\n",
    "while i <= 100:\n",
    "    result += i\n",
    "    i += 3\n",
    "\n",
    "print(result)\n",
    "\n",
    "# or:\n",
    "\n",
    "result = 0\n",
    "i = 1\n",
    "while i <= 100:\n",
    "    if i % 3 == 0:\n",
    "        result += i\n",
    "    i += 1\n",
    "\n",
    "print(result)"
   ]
  },
  {
   "cell_type": "markdown",
   "metadata": {},
   "source": [
    "### Strings"
   ]
  },
  {
   "cell_type": "markdown",
   "metadata": {},
   "source": [
    "Let's focus on strings because this class will be mainly on how we handle strings and many fun things that we can make with text. Again as we saw in our *hello world* example, we need quote to create a string, whether single (') or double (\") quotes it's actually not important, but **don't mix them**. Strings are a sequence of characters that concatenated form a text. We can also have one character strings or an empty string."
   ]
  },
  {
   "cell_type": "code",
   "execution_count": null,
   "metadata": {},
   "outputs": [],
   "source": [
    "first_str = \"Hello\"\n",
    "second_str = \"world\"\n",
    "empty_str = \"\"\n",
    "one_ch_str = \"!\""
   ]
  },
  {
   "cell_type": "markdown",
   "metadata": {},
   "source": [
    "#### String operations"
   ]
  },
  {
   "cell_type": "code",
   "execution_count": null,
   "metadata": {},
   "outputs": [],
   "source": [
    "# Concatenation\n",
    "\n",
    "print(first_str +  second_str + one_ch_str)"
   ]
  },
  {
   "cell_type": "markdown",
   "metadata": {},
   "source": [
    "What's missing?"
   ]
  },
  {
   "cell_type": "code",
   "execution_count": null,
   "metadata": {},
   "outputs": [],
   "source": [
    "space_str = \" \"\n",
    "print(first_str + space_str + second_str + one_ch_str)"
   ]
  },
  {
   "cell_type": "code",
   "execution_count": null,
   "metadata": {},
   "outputs": [],
   "source": [
    "# Repetition of strings\n",
    "\n",
    "print(first_str + space_str + second_str + (one_ch_str * 5))"
   ]
  },
  {
   "cell_type": "code",
   "execution_count": null,
   "metadata": {},
   "outputs": [],
   "source": [
    "greeting = first_str + space_str\n",
    "print(greeting)"
   ]
  },
  {
   "cell_type": "markdown",
   "metadata": {},
   "source": [
    "__Important__: We can also use ordinary \"arithmetic\" operations on strings. So keep in mind, that the operators are overloaded."
   ]
  },
  {
   "cell_type": "code",
   "execution_count": null,
   "metadata": {},
   "outputs": [],
   "source": [
    "greeting += second_str\n",
    "print(greeting)"
   ]
  },
  {
   "cell_type": "markdown",
   "metadata": {},
   "source": [
    "__Question__: What is the problem with following instruction?"
   ]
  },
  {
   "cell_type": "code",
   "execution_count": null,
   "metadata": {},
   "outputs": [],
   "source": [
    "n = 5\n",
    "print('The value of n is ' + n)"
   ]
  },
  {
   "cell_type": "markdown",
   "metadata": {},
   "source": [
    "The operator '+' is overloaded. In combination with a string, the operator concatenates. However, in combination with a number, the operator represents the ordinary addition.<br>\n",
    "__Question__: What do we have to change to get the desired outcome 'The value of n is 5'?"
   ]
  },
  {
   "cell_type": "code",
   "execution_count": null,
   "metadata": {},
   "outputs": [],
   "source": [
    "n = 5\n",
    "\n",
    "# There are two ways:\n",
    "\n",
    "print('The value of n is ' + str(n))\n",
    "\n",
    "# or\n",
    "\n",
    "print('The value of n is', n) # Note that ',' also adds a space"
   ]
  },
  {
   "cell_type": "markdown",
   "metadata": {},
   "source": [
    "We can index elements using [ ] as follows"
   ]
  },
  {
   "cell_type": "code",
   "execution_count": null,
   "metadata": {},
   "outputs": [],
   "source": [
    "print(first_str[3])"
   ]
  },
  {
   "cell_type": "code",
   "execution_count": null,
   "metadata": {},
   "outputs": [],
   "source": [
    "long_str = \"pneumonoultramicroscopicsilicovolcanoconiosis\"\n",
    "\n",
    "# Index ranges\n",
    "\n",
    "print(long_str[:6]) #== long_str[0:6]"
   ]
  },
  {
   "cell_type": "markdown",
   "metadata": {},
   "source": [
    "__Question__: How many characters does long_str[:6] contain? What can we implicate for the last index?<br>\n",
    "The substring contains 6 characters. As we started counting at index 0, we can imply that the last index is excluded from the range.\n",
    "\n",
    "Indexes begin with 0 and end with length -1. __Attention__: The last position (index) of a string is long_str[-1] == long_str[len(long_str) - 1], but in a range the last index is exclusive."
   ]
  },
  {
   "cell_type": "code",
   "execution_count": null,
   "metadata": {},
   "outputs": [],
   "source": [
    "print(len(long_str))"
   ]
  },
  {
   "cell_type": "code",
   "execution_count": null,
   "metadata": {},
   "outputs": [],
   "source": [
    "print(long_str[30:-1])"
   ]
  },
  {
   "cell_type": "markdown",
   "metadata": {},
   "source": [
    "__Question__: We saw above the equivalence of long_str[:6] == long_str[0:6]. What is the equivalent expression to the following instruction?"
   ]
  },
  {
   "cell_type": "code",
   "execution_count": null,
   "metadata": {},
   "outputs": [],
   "source": [
    "print(long_str[30:])\n",
    "print(long_str[30:len(long_str)])"
   ]
  },
  {
   "cell_type": "markdown",
   "metadata": {},
   "source": [
    "An overview of logical operators:\n",
    "\n",
    "- == equal\n",
    "- != unequal\n",
    "- < less than\n",
    "- \\> greater than \n",
    "- <= less than or equal to >= greater than or equal to"
   ]
  },
  {
   "cell_type": "markdown",
   "metadata": {},
   "source": [
    "### Important!\n",
    "- == means comparison\n",
    "- = means assignment"
   ]
  },
  {
   "cell_type": "code",
   "execution_count": null,
   "metadata": {},
   "outputs": [],
   "source": [
    "print(first_str[2] == first_str[3])\n",
    "print(first_str[1] == first_str[3])"
   ]
  },
  {
   "cell_type": "markdown",
   "metadata": {},
   "source": [
    "We can iterate over a string with a for loop."
   ]
  },
  {
   "cell_type": "code",
   "execution_count": null,
   "metadata": {},
   "outputs": [],
   "source": [
    "# Now is your turn to count how many os do we have in long_str.\n",
    "\n",
    "num_o = 0\n",
    "\n",
    "for letter in long_str:\n",
    "    if letter == \"o\":\n",
    "        num_o += 1\n",
    "        \n",
    "print(num_o)\n",
    "    "
   ]
  },
  {
   "cell_type": "markdown",
   "metadata": {},
   "source": [
    "#### String Methods"
   ]
  },
  {
   "cell_type": "markdown",
   "metadata": {},
   "source": [
    "There are several methods provided to support transforming, validating and in general working with strings. Here we have some of them."
   ]
  },
  {
   "cell_type": "code",
   "execution_count": null,
   "metadata": {},
   "outputs": [],
   "source": [
    "text = 'This is text'\n",
    "nums = '123456'"
   ]
  },
  {
   "cell_type": "markdown",
   "metadata": {},
   "source": [
    "#### Find"
   ]
  },
  {
   "cell_type": "code",
   "execution_count": null,
   "metadata": {},
   "outputs": [],
   "source": [
    "find_1 = text.find('is')\n",
    "find_2 = text.find('your')"
   ]
  },
  {
   "cell_type": "markdown",
   "metadata": {},
   "source": [
    "__Question__: What is the output of the find-method?<br>\n",
    "The find-method returns the index of the first occurance of the searched string or -1 if the searched string can't be found in the text.\n",
    "\n",
    "__Task__: We want to get a user-friendly output if the words 'is' or 'your' can be found in the variable 'text', i.e.<br>\n",
    "'is' found in 'This is text'<br>\n",
    "'your' found in 'This is text'<br>\n",
    "if both words could be found in the text or the negated form if the word wasn't found. Try to be most generic as possible, i.e. hard code as few as possible."
   ]
  },
  {
   "cell_type": "code",
   "execution_count": null,
   "metadata": {},
   "outputs": [],
   "source": [
    "search_word1 = 'is'\n",
    "search_word2 = 'your'\n",
    "\n",
    "# Note that for this task it's sufficient to check if the text contains the searched word, i.e.\n",
    "# search_word1 in text == text.find(search_word1) > -1\n",
    "if search_word1 in text:\n",
    "    print(\"'\" + search_word1 + \"' found in '\" + text + \"'\")\n",
    "else:\n",
    "    print(\"'\" + search_word1 + \"' wasn't found in '\" + text + \"'\")\n",
    "    \n",
    "if text.find(search_word2) > -1:\n",
    "    print(\"'\" + search_word2 + \"' found in '\" + text + \"'\")\n",
    "else:\n",
    "    print(\"'\" + search_word2 + \"' wasn't found in '\" + text + \"'\")"
   ]
  },
  {
   "cell_type": "markdown",
   "metadata": {},
   "source": [
    "####  Validation checks"
   ]
  },
  {
   "cell_type": "code",
   "execution_count": null,
   "metadata": {},
   "outputs": [],
   "source": [
    "text.isalpha()\n",
    "text.isdigit()\n",
    "nums.isdigit()"
   ]
  },
  {
   "cell_type": "markdown",
   "metadata": {},
   "source": [
    "#### Concatenation"
   ]
  },
  {
   "cell_type": "code",
   "execution_count": null,
   "metadata": {},
   "outputs": [],
   "source": [
    "print(''.join((text,nums)))\n",
    "print(' '.join((text,nums)))"
   ]
  },
  {
   "cell_type": "markdown",
   "metadata": {},
   "source": [
    "__Question__: How could we get the result of the instructions above in another way (, which we already have seen)?"
   ]
  },
  {
   "cell_type": "code",
   "execution_count": null,
   "metadata": {},
   "outputs": [],
   "source": [
    "print(text + nums)\n",
    "print(text + ' ' + nums)"
   ]
  },
  {
   "cell_type": "markdown",
   "metadata": {},
   "source": [
    "#### Format "
   ]
  },
  {
   "cell_type": "code",
   "execution_count": null,
   "metadata": {},
   "outputs": [],
   "source": [
    "fname = \"John\"\n",
    "lname = \"Doe\"\n",
    "age = \"24\"\n",
    "print(\"{first} {last} is {age} years old\".format(first=fname, last=lname, age=age))"
   ]
  },
  {
   "cell_type": "markdown",
   "metadata": {},
   "source": [
    "#### Case changing"
   ]
  },
  {
   "cell_type": "code",
   "execution_count": null,
   "metadata": {},
   "outputs": [],
   "source": [
    "text.upper()\n",
    "text.lower()"
   ]
  },
  {
   "cell_type": "markdown",
   "metadata": {},
   "source": [
    "#### Split "
   ]
  },
  {
   "cell_type": "code",
   "execution_count": null,
   "metadata": {},
   "outputs": [],
   "source": [
    "text.split(' ')"
   ]
  },
  {
   "cell_type": "markdown",
   "metadata": {},
   "source": [
    "#### Substitution"
   ]
  },
  {
   "cell_type": "code",
   "execution_count": null,
   "metadata": {},
   "outputs": [],
   "source": [
    "text.replace('is','was')"
   ]
  },
  {
   "cell_type": "markdown",
   "metadata": {},
   "source": [
    "#### Stripping"
   ]
  },
  {
   "cell_type": "code",
   "execution_count": null,
   "metadata": {},
   "outputs": [],
   "source": [
    "text.rstrip()\n",
    "text.lstrip()\n",
    "text.strip()"
   ]
  },
  {
   "cell_type": "markdown",
   "metadata": {},
   "source": [
    "Use `print()` function to explore deeper the given examples."
   ]
  }
 ],
 "metadata": {
  "kernelspec": {
   "display_name": "Python 3",
   "language": "python",
   "name": "python3"
  },
  "language_info": {
   "codemirror_mode": {
    "name": "ipython",
    "version": 3
   },
   "file_extension": ".py",
   "mimetype": "text/x-python",
   "name": "python",
   "nbconvert_exporter": "python",
   "pygments_lexer": "ipython3",
   "version": "3.7.5"
  }
 },
 "nbformat": 4,
 "nbformat_minor": 2
}
