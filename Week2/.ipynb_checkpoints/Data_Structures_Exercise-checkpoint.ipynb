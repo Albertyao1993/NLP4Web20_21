{
 "cells": [
  {
   "cell_type": "markdown",
   "metadata": {},
   "source": [
    "# Python - Data Structures and Functions\n",
    "Some tasks are based on tasks on https://www.practicepython.org/.<br>\n",
    "For better readability and encapsulation of our code, we can define functions, that perform specific instructions. We can call functions with inputs and functions may return an output, but don't have to. A function can be defined with the keyword *def* followed by the name of the function."
   ]
  },
  {
   "cell_type": "code",
   "execution_count": null,
   "metadata": {},
   "outputs": [],
   "source": [
    "# Function without input and without output\n",
    "def hello_world():\n",
    "    print('Hello World!')\n",
    "    \n",
    "# Function with input, but without output\n",
    "def print_my_input(my_input):\n",
    "    print(my_input)\n",
    "\n",
    "# Function with input and output\n",
    "def add(value1, value2):\n",
    "    return value1 + value2"
   ]
  },
  {
   "cell_type": "markdown",
   "metadata": {},
   "source": [
    "Defined functions can be called by typing the function name:"
   ]
  },
  {
   "cell_type": "code",
   "execution_count": null,
   "metadata": {},
   "outputs": [],
   "source": [
    "hello_world()\n",
    "print_my_input('Hello World!')\n",
    "print(add(1, 3))"
   ]
  },
  {
   "cell_type": "markdown",
   "metadata": {},
   "source": [
    "In python you can create list of items (arrays). We knew lists as the output of `string.split()` and from our previous exercise, but let's look deeper into them."
   ]
  },
  {
   "cell_type": "code",
   "execution_count": null,
   "metadata": {},
   "outputs": [],
   "source": [
    "students = [\"John\", \"Mary\", \"Ana\", \"Tim\", \"Bill\"]\n",
    "grades = [1, 1.7, 3.0, 1, \"Not in class\"]\n",
    "print(\"These are my students:\", students)\n",
    "print(\"Here are their grades:\", grades)"
   ]
  },
  {
   "cell_type": "markdown",
   "metadata": {},
   "source": [
    "Lists can be indexed analogue to strings"
   ]
  },
  {
   "cell_type": "code",
   "execution_count": null,
   "metadata": {},
   "outputs": [],
   "source": [
    "print(\"This is the first student:\", students[0])\n",
    "print(\"And this is their grade:\", grades[0])"
   ]
  },
  {
   "cell_type": "markdown",
   "metadata": {},
   "source": [
    "Lists in Python are like magic they may contain all kinds of objects together e.g. float, integers, strings even lists inside lists as we had in our previous exercise submission."
   ]
  },
  {
   "cell_type": "markdown",
   "metadata": {},
   "source": [
    "__Task 1__: Consider the following list of numbers.<br>\n",
    "1. Iterate over the list and print each number less than 15.\n",
    "2. Instead of iterating over the list, create another list and print the list as a whole.\n",
    "3. Try to use only one line for the creation of the list in subtask 2. (Hint: List Comprehension)"
   ]
  },
  {
   "cell_type": "code",
   "execution_count": null,
   "metadata": {},
   "outputs": [],
   "source": [
    "list_of_numbers = [3, 7, 10, 23, 8, 15, 34, 12, 16, 5, 45, 63, 13, 9]\n",
    "\n",
    "# Code"
   ]
  },
  {
   "cell_type": "markdown",
   "metadata": {},
   "source": [
    "__Task 2__: Write a function, that expects two lists (of possibly unequal lengths) as input and that returns the intersection of both lists without duplicates (Hint: *set()*). The result of the function executed on the lists [1, 2, 3] and [1, 3, 5, 6, 3] should be [1, 3]."
   ]
  },
  {
   "cell_type": "code",
   "execution_count": null,
   "metadata": {},
   "outputs": [],
   "source": []
  },
  {
   "cell_type": "markdown",
   "metadata": {},
   "source": [
    "You can also create dictionaries (Map/HashMap in Java).\n",
    "Using this structure you can link elements. We call them keys and values.\n",
    "### Important!\n",
    "Keys must be unique. Otherwise you will overwrite the value of that key"
   ]
  },
  {
   "cell_type": "code",
   "execution_count": null,
   "metadata": {},
   "outputs": [],
   "source": [
    "dictionary = {}\n",
    "dictionary[\"a\"] = 1\n",
    "dictionary[\"b\"] = 2\n",
    "dictionary[\"c\"] = 3\n",
    "print(dictionary)\n",
    "\n",
    "dictionary[\"a\"] = [1, 2, 3, 5]\n",
    "print(dictionary)"
   ]
  },
  {
   "cell_type": "markdown",
   "metadata": {},
   "source": [
    "Again, it is possible to mix different structure types into a dictionary."
   ]
  },
  {
   "cell_type": "code",
   "execution_count": null,
   "metadata": {},
   "outputs": [],
   "source": [
    "my_dictionary = {}\n",
    "my_dictionary[\"d\"] = dictionary\n",
    "my_dictionary[\"e\"] = 5\n",
    "my_dictionary[\"f\"] = 6\n",
    "print(my_dictionary)"
   ]
  },
  {
   "cell_type": "code",
   "execution_count": null,
   "metadata": {},
   "outputs": [],
   "source": [
    "print(my_dictionary[\"d\"][\"a\"])"
   ]
  },
  {
   "cell_type": "code",
   "execution_count": null,
   "metadata": {},
   "outputs": [],
   "source": [
    "my_number = my_dictionary[\"e\"]\n",
    "print(my_number)"
   ]
  },
  {
   "cell_type": "markdown",
   "metadata": {},
   "source": [
    "__Task 3__: Consider the long word from practice class 1. Use a dictionary to store the number of characters in this word, i.e. output_dict['a'] should contain the number of characters 'a' in the word. Encapsulate your code in a function, so that you can use it again and on other words."
   ]
  },
  {
   "cell_type": "code",
   "execution_count": null,
   "metadata": {},
   "outputs": [],
   "source": [
    "long_word = 'pneumonoultramicroscopicsilicovolcanoconiosis'"
   ]
  },
  {
   "cell_type": "markdown",
   "metadata": {},
   "source": [
    "## Now is the turn for some Numpy insights\n",
    "Numpy is a python library for mathematical purposes and with good support for vectors and matrices. A library can be loaded into your file using the *import* instruction. We can define an abbreviation for used libraries, so that we do not need to type the full name."
   ]
  },
  {
   "cell_type": "code",
   "execution_count": null,
   "metadata": {},
   "outputs": [],
   "source": [
    "import numpy as np\n",
    "\n",
    "a = np.arange(15)\n",
    "print(a)"
   ]
  },
  {
   "cell_type": "code",
   "execution_count": null,
   "metadata": {},
   "outputs": [],
   "source": [
    "a = a.reshape(5,3)\n",
    "print(a)"
   ]
  },
  {
   "cell_type": "markdown",
   "metadata": {},
   "source": [
    "__Task 4__: Define numpy arrays, containing 10 Zeros, 10 Ones and 10 Fives. (Note: There are more than one solutions)"
   ]
  },
  {
   "cell_type": "code",
   "execution_count": null,
   "metadata": {},
   "outputs": [],
   "source": []
  },
  {
   "cell_type": "markdown",
   "metadata": {},
   "source": [
    "### A Numpy array has different attributes like shape, size, dimensions, type\n",
    "\n",
    "__Question__: What is actually the difference between them? Discuss this with your neighbor."
   ]
  },
  {
   "cell_type": "code",
   "execution_count": null,
   "metadata": {},
   "outputs": [],
   "source": [
    "print(\"shape of a is:\", a.shape)\n",
    "print(\"size of a is:\", a.size)\n",
    "print(\"dimensions in a:\", a.ndim)\n",
    "print(\"type of a is:\", a.dtype)"
   ]
  },
  {
   "cell_type": "markdown",
   "metadata": {},
   "source": [
    "We can also use the ordinary mathematical operations on vectors, i.e. Numpy-arrays."
   ]
  },
  {
   "cell_type": "code",
   "execution_count": null,
   "metadata": {},
   "outputs": [],
   "source": [
    "a = np.array([10, 20, 30, 40])\n",
    "b = np.arange(4)"
   ]
  },
  {
   "cell_type": "code",
   "execution_count": null,
   "metadata": {},
   "outputs": [],
   "source": [
    "print(a)\n",
    "print(b)"
   ]
  },
  {
   "cell_type": "code",
   "execution_count": null,
   "metadata": {},
   "outputs": [],
   "source": [
    "print(a + b)"
   ]
  },
  {
   "cell_type": "code",
   "execution_count": null,
   "metadata": {},
   "outputs": [],
   "source": [
    "print(a - b)"
   ]
  },
  {
   "cell_type": "markdown",
   "metadata": {},
   "source": [
    "__Question__: What is the difference between the following instructions? Discuss this with your neighbor."
   ]
  },
  {
   "cell_type": "code",
   "execution_count": null,
   "metadata": {},
   "outputs": [],
   "source": [
    "print(a * 2)\n",
    "print(a * b)\n",
    "print(a.dot(b))"
   ]
  },
  {
   "cell_type": "code",
   "execution_count": null,
   "metadata": {},
   "outputs": [],
   "source": [
    "c = np.zeros(4)\n",
    "print(c)"
   ]
  },
  {
   "cell_type": "markdown",
   "metadata": {},
   "source": [
    "__Task 5__: Define one function, that expects a numpy-matrix and results the sum of all elements in this matrix, the sum of each columns as well as the sum of each row (each as vector). The result for<br>\n",
    "[[1, 2, 3],<br>\n",
    "[4, 5, 6],<br>\n",
    "[7, 8, 9]]<br>\n",
    "should be 45, [12, 15, 18], [6, 15, 24]. (Hint: *np.sum()*)"
   ]
  },
  {
   "cell_type": "code",
   "execution_count": null,
   "metadata": {},
   "outputs": [],
   "source": []
  },
  {
   "cell_type": "markdown",
   "metadata": {},
   "source": [
    "### Imagine we have two different arrays and we want to compare them\n",
    "\n",
    "__Question__: How could we compare two arrays? The following two arrays may help with your thoughts. Discuss this with your neighbor."
   ]
  },
  {
   "cell_type": "code",
   "execution_count": null,
   "metadata": {},
   "outputs": [],
   "source": [
    "first_array = np.zeros(10)\n",
    "first_array[2]= 1\n",
    "first_array[4]= 1\n",
    "first_array[8]= 1\n",
    "\n",
    "second_array = np.ones(10)\n",
    "\n",
    "print(first_array)\n",
    "print(second_array)"
   ]
  },
  {
   "cell_type": "markdown",
   "metadata": {},
   "source": [
    "After creating an array, we can still assign values to specific positions in the array:"
   ]
  },
  {
   "cell_type": "code",
   "execution_count": null,
   "metadata": {},
   "outputs": [],
   "source": [
    "first_array = first_array.reshape(2,5)\n",
    "print(first_array)\n",
    "\n",
    "first_array[1][4] = 5\n",
    "print(first_array)"
   ]
  },
  {
   "cell_type": "markdown",
   "metadata": {},
   "source": [
    "We can also assign whole columns:"
   ]
  },
  {
   "cell_type": "code",
   "execution_count": null,
   "metadata": {},
   "outputs": [],
   "source": [
    "first_array[:,3] = 3\n",
    "print(first_array)"
   ]
  },
  {
   "cell_type": "markdown",
   "metadata": {},
   "source": [
    "__Task 6__: We want the first row of 'first_array' to contain '2'."
   ]
  },
  {
   "cell_type": "code",
   "execution_count": null,
   "metadata": {},
   "outputs": [],
   "source": []
  },
  {
   "cell_type": "markdown",
   "metadata": {},
   "source": [
    "__Task 7__: Compute the following matrix multiplications: A \\* B and B \\* A. What is the result of using the ordinary multiplication operator and what do we have to change for using the multiplication operator? (Hint: *array.reshape()*) "
   ]
  },
  {
   "cell_type": "code",
   "execution_count": null,
   "metadata": {},
   "outputs": [],
   "source": [
    "A = first_array\n",
    "B = second_array\n",
    "B[1,:] = 2\n",
    "\n",
    "# Code"
   ]
  },
  {
   "cell_type": "markdown",
   "metadata": {},
   "source": [
    "# Text Processing\n",
    "\n",
    "Now let's go into how to extract information from a text. Your task in this section is to understand what is going on, as you will need that in the homework exercise.\n",
    "\n",
    "First we will import some packages that we need for our task and here we go!"
   ]
  },
  {
   "cell_type": "code",
   "execution_count": null,
   "metadata": {},
   "outputs": [],
   "source": [
    "import pandas as pd\n",
    "import numpy as np\n",
    "from sklearn.feature_extraction.text import CountVectorizer"
   ]
  },
  {
   "cell_type": "markdown",
   "metadata": {},
   "source": [
    "Normally models do not process text but a numerical version of it. Therefore we need to vectorize our data. There are several ways of doing it, you might remember that from our previous presentation. Here are a couple of them:\n",
    "\n",
    "**Bag of words**: \n",
    "Let's imagine that we have four documents:\n",
    "\n",
    " 1. I like to eat pizza every day\n",
    " 2. I like to eat pasta every day\n",
    " 3. I do not like pizza\n",
    " 4. I do my homework every day\n",
    " \n",
    "__Task 8__: We want to list all words, that our documents consists of (i.e. the vocabulary).\n",
    "You can check the string function `split` and the method `sorted`"
   ]
  },
  {
   "cell_type": "code",
   "execution_count": null,
   "metadata": {},
   "outputs": [],
   "source": []
  },
  {
   "cell_type": "markdown",
   "metadata": {},
   "source": [
    "Having the list, we can now write manually our bag of words for each document:\n",
    "\n",
    "1. [1, 1, 1, 1, 1, 0, 1, 0, 0, 0, 1, 1]\n",
    "2. [1, 1, 1, 1, 1, 0, 1, 0, 0, 1, 0, 1]\n",
    "3. [1, 0, 0, 0, 0, 0, 1, 0, 1, 0, 1, 0]\n",
    "4. [1, 1, 0, 0, 1, 1, 0, 1, 1, 0, 0, 0]\n",
    "\n",
    "And tada!! This are the vectors that we would feed in our model."
   ]
  },
  {
   "cell_type": "code",
   "execution_count": null,
   "metadata": {},
   "outputs": [],
   "source": [
    "corpus = [\n",
    "    'This is the first document.',\n",
    "    'This document is the second document.',\n",
    "    'And this is the third one.',\n",
    "    'Is this the first document?']"
   ]
  },
  {
   "cell_type": "code",
   "execution_count": null,
   "metadata": {},
   "outputs": [],
   "source": [
    "count_vectorizer = CountVectorizer()\n",
    "X = count_vectorizer.fit_transform(corpus)\n",
    "print(count_vectorizer.get_feature_names())"
   ]
  },
  {
   "cell_type": "code",
   "execution_count": null,
   "metadata": {},
   "outputs": [],
   "source": [
    "print(X.toarray())  "
   ]
  },
  {
   "cell_type": "markdown",
   "metadata": {},
   "source": [
    "## Reading and Writing Files\n",
    "\n",
    "There are several ways of processing files, the most common one is using the `open()` function."
   ]
  },
  {
   "cell_type": "code",
   "execution_count": null,
   "metadata": {},
   "outputs": [],
   "source": [
    "my_file = open(\"yelp_polarity.txt\",\"r\")\n",
    "\n",
    "line_counter = 0\n",
    "\n",
    "for line in my_file:\n",
    "    print(line)\n",
    "    line_counter += 1\n",
    "    if line_counter >= 5:\n",
    "        break\n",
    "\n",
    "my_file.close()\n"
   ]
  },
  {
   "cell_type": "markdown",
   "metadata": {},
   "source": [
    "**Note**: when handling very big text files, keeping the whole data in the buffer would be counterproductive and inefficient, therefore it is important to learn how to read one line at a time."
   ]
  },
  {
   "cell_type": "code",
   "execution_count": null,
   "metadata": {},
   "outputs": [],
   "source": [
    "with open(\"yelp_polarity.txt\") as my_file:\n",
    "    line_counter = 0\n",
    "\n",
    "    for line in my_file:\n",
    "        print(line)\n",
    "        line_counter += 1\n",
    "        if line_counter >= 5:\n",
    "            break\n",
    "    "
   ]
  },
  {
   "cell_type": "markdown",
   "metadata": {},
   "source": [
    "If you have cvs format files, you can read them with Pandas, this is a useful way of doing analysis on your data."
   ]
  },
  {
   "cell_type": "code",
   "execution_count": null,
   "metadata": {},
   "outputs": [],
   "source": [
    "dataframe = pd.read_csv(\"yelp_polarity.txt\", sep=\"\\t\", header=None)"
   ]
  },
  {
   "cell_type": "code",
   "execution_count": null,
   "metadata": {},
   "outputs": [],
   "source": [
    "display(dataframe)"
   ]
  },
  {
   "cell_type": "markdown",
   "metadata": {},
   "source": [
    "__Task 9__: Now it's your turn to explore data using Pandas. How many classes do we have in this file and how many samples per class? Remember that the question mark (?) can be always very useful when you don't know the functions. Check the function `groupby` and `describe`"
   ]
  },
  {
   "cell_type": "code",
   "execution_count": null,
   "metadata": {},
   "outputs": [],
   "source": [
    "# Code\n",
    "dataframe.groupby?"
   ]
  }
 ],
 "metadata": {
  "kernelspec": {
   "display_name": "Python 3",
   "language": "python",
   "name": "python3"
  },
  "language_info": {
   "codemirror_mode": {
    "name": "ipython",
    "version": 3
   },
   "file_extension": ".py",
   "mimetype": "text/x-python",
   "name": "python",
   "nbconvert_exporter": "python",
   "pygments_lexer": "ipython3",
   "version": "3.7.9"
  }
 },
 "nbformat": 4,
 "nbformat_minor": 2
}
